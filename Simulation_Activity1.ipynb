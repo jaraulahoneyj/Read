{
  "nbformat": 4,
  "nbformat_minor": 0,
  "metadata": {
    "colab": {
      "provenance": [],
      "authorship_tag": "ABX9TyN9oUftonPe7eBtzB0b+hv2",
      "include_colab_link": true
    },
    "kernelspec": {
      "name": "python3",
      "display_name": "Python 3"
    },
    "language_info": {
      "name": "python"
    }
  },
  "cells": [
    {
      "cell_type": "markdown",
      "metadata": {
        "id": "view-in-github",
        "colab_type": "text"
      },
      "source": [
        "<a href=\"https://colab.research.google.com/github/jaraulahoneyj/Read/blob/main/Simulation_Activity1.ipynb\" target=\"_parent\"><img src=\"https://colab.research.google.com/assets/colab-badge.svg\" alt=\"Open In Colab\"/></a>"
      ]
    },
    {
      "cell_type": "code",
      "execution_count": null,
      "metadata": {
        "id": "pfu8vVlhF7Jc"
      },
      "outputs": [],
      "source": []
    },
    {
      "cell_type": "markdown",
      "metadata": {
        "id": "a9fd79d0"
      },
      "source": [
        "## Create histogram\n",
        "\n",
        "### Subtask:\n",
        "Generate a histogram of the values in the created array with a range of -0.6 to +0.6 and a bin width of 0.05."
      ]
    },
    {
      "cell_type": "markdown",
      "metadata": {
        "id": "d7dc7203"
      },
      "source": [
        "**Reasoning**:\n",
        "Generate a histogram of the values in the created array with a range of -0.6 to +0.6 and a bin width of 0.05, adding labels and a title, and displaying the plot."
      ]
    },
    {
      "cell_type": "code",
      "metadata": {
        "colab": {
          "base_uri": "https://localhost:8080/",
          "height": 472
        },
        "id": "c036d147",
        "outputId": "87236309-376a-444e-c219-da46031e1f97"
      },
      "source": [
        "import matplotlib.pyplot as plt\n",
        "\n",
        "bin_width = 0.05\n",
        "data_range = 0.6 - (-0.6)\n",
        "num_bins = int(data_range / bin_width)\n",
        "\n",
        "plt.hist(normal_distribution_array, bins=num_bins, range=(-0.6, 0.6))\n",
        "plt.xlabel(\"Value\")\n",
        "plt.ylabel(\"Frequency\")\n",
        "plt.title(\"Histogram of Normal Distribution Array\")\n",
        "plt.show()"
      ],
      "execution_count": 13,
      "outputs": [
        {
          "output_type": "display_data",
          "data": {
            "text/plain": [
              "<Figure size 640x480 with 1 Axes>"
            ],
            "image/png": "[encoded data removed]"
          },
          "metadata": {}
        }
      ]
    },
    {
      "cell_type": "markdown",
      "metadata": {
        "id": "d3b8e09b"
      },
      "source": [
        "## Create array from normal distribution\n",
        "\n",
        "### Subtask:\n",
        "Generate an array of 100,000 values from a normal distribution with an average of 3 and a standard deviation of 1.2."
      ]
    },
    {
      "cell_type": "markdown",
      "metadata": {
        "id": "3e541bcf"
      },
      "source": [
        "**Reasoning**:\n",
        "The subtask requires generating an array of values from a normal distribution with a specific mean and standard deviation. I will use `numpy.random.normal` to create this array as specified in the instructions."
      ]
    },
    {
      "cell_type": "code",
      "metadata": {
        "id": "b5f46cd3"
      },
      "source": [
        "normal_distribution_array = np.random.normal(loc=3, scale=1.2, size=100000)"
      ],
      "execution_count": 12,
      "outputs": []
    },
    {
      "cell_type": "markdown",
      "metadata": {
        "id": "62243e7a"
      },
      "source": [
        "## Create array `c`\n",
        "\n",
        "### Subtask:\n",
        "Create a new array `c` where `c[i]` is calculated as `a[i] * b[i-1]` for `i` from 1 to the end of the arrays."
      ]
    },
    {
      "cell_type": "markdown",
      "metadata": {
        "id": "e2279c0f"
      },
      "source": [
        "**Reasoning**:\n",
        "Create a new array `c` by calculating the product of elements from arrays `a` and `b` with a one-element shift in `b`."
      ]
    },
    {
      "cell_type": "code",
      "metadata": {
        "id": "ad4e588b"
      },
      "source": [
        "c = a[1:] * b[:-1]"
      ],
      "execution_count": 9,
      "outputs": []
    },
    {
      "cell_type": "markdown",
      "metadata": {
        "id": "dfdc9c29"
      },
      "source": [
        "## Create arrays `a` and `b`\n",
        "\n",
        "### Subtask:\n",
        "Generate two arrays, each containing 100,000 random integers between 0 and 20."
      ]
    },
    {
      "cell_type": "markdown",
      "metadata": {
        "id": "d8130df7"
      },
      "source": [
        "**Reasoning**:\n",
        "The subtask requires creating two arrays of random integers. I will use `numpy.random.randint` to generate these arrays as specified in the instructions."
      ]
    },
    {
      "cell_type": "code",
      "metadata": {
        "id": "1be774f7"
      },
      "source": [
        "import numpy as np\n",
        "\n",
        "a = np.random.randint(low=0, high=21, size=100000)\n",
        "b = np.random.randint(low=0, high=21, size=100000)"
      ],
      "execution_count": 8,
      "outputs": []
    },
    {
      "cell_type": "code",
      "metadata": {
        "colab": {
          "base_uri": "https://localhost:8080/"
        },
        "id": "ef4273e6",
        "outputId": "61d562e3-9aa8-46dd-f78d-64641b804627"
      },
      "source": [
        "import numpy as np\n",
        "\n",
        "# Create an array of 100,000 values from a normal distribution\n",
        "mean_value = 0.3\n",
        "std_dev = 1.2\n",
        "normal_array = np.random.normal(loc=mean_value, scale=std_dev, size=100000)\n",
        "\n",
        "# Print the average and standard deviation of the array\n",
        "print(\"Average value:\", np.mean(normal_array))\n",
        "print(\"Standard deviation:\", np.std(normal_array))"
      ],
      "execution_count": 4,
      "outputs": [
        {
          "output_type": "stream",
          "name": "stdout",
          "text": [
            "Average value: 0.30448644098322525\n",
            "Standard deviation: 1.2015037249155942\n"
          ]
        }
      ]
    },
    {
      "cell_type": "code",
      "metadata": {
        "colab": {
          "base_uri": "https://localhost:8080/"
        },
        "id": "11fcf788",
        "outputId": "562fef39-e1ac-4d37-ed3e-40dca8f41649"
      },
      "source": [
        "import numpy as np\n",
        "\n",
        "# Create two arrays of 100,000 random values\n",
        "random_array1 = np.random.rand(100000)\n",
        "random_array2 = np.random.rand(100000)\n",
        "\n",
        "# Create a new array by multiplying the two random arrays\n",
        "multiply_array = random_array1 * random_array2\n",
        "\n",
        "# Print the average of the values in the new array\n",
        "print(\"Average value:\", np.mean(multiply_array))"
      ],
      "execution_count": 3,
      "outputs": [
        {
          "output_type": "stream",
          "name": "stdout",
          "text": [
            "Average value: 0.2504432835285885\n"
          ]
        }
      ]
    },
    {
      "cell_type": "code",
      "metadata": {
        "colab": {
          "base_uri": "https://localhost:8080/"
        },
        "id": "dc84d029",
        "outputId": "f5455842-8a5b-447d-c77a-28ce761f9e7d"
      },
      "source": [
        "import numpy as np\n",
        "\n",
        "# Create two arrays of 100,000 random values\n",
        "random_array1 = np.random.rand(100000)\n",
        "random_array2 = np.random.rand(100000)\n",
        "\n",
        "# Create a new array by summing the two random arrays\n",
        "sum_array = random_array1 + random_array2\n",
        "\n",
        "# Print the average of the values in the new array\n",
        "print(\"Average value:\", np.mean(sum_array))"
      ],
      "execution_count": 2,
      "outputs": [
        {
          "output_type": "stream",
          "name": "stdout",
          "text": [
            "Average value: 1.0019684243570972\n"
          ]
        }
      ]
    },
    {
      "cell_type": "code",
      "metadata": {
        "colab": {
          "base_uri": "https://localhost:8080/"
        },
        "id": "0819ec98",
        "outputId": "2a8efd57-dbfd-4e8a-a366-7673bae3f0f8"
      },
      "source": [
        "import numpy as np\n",
        "\n",
        "# Create an array of 100,000 random values between -2 and 3.3\n",
        "random_array = np.random.uniform(low=-2, high=3.3, size=100000)\n",
        "\n",
        "# Print the lowest and highest values of the array\n",
        "print(\"Lowest value:\", np.min(random_array))\n",
        "print(\"Highest value:\", np.max(random_array))"
      ],
      "execution_count": 1,
      "outputs": [
        {
          "output_type": "stream",
          "name": "stdout",
          "text": [
            "Lowest value: -1.9999995774635129\n",
            "Highest value: 3.299930733998326\n"
          ]
        }
      ]
    },
    {
      "cell_type": "markdown",
      "metadata": {
        "id": "cc0e3ed9"
      },
      "source": [
        "# Task\n",
        "Create two arrays, a and b, where each are 100,000 random integers with values between 0 and 20. Create a new array, c, from c[i]=a[i]b[i-1]. Of course, the e array will have a length of 99,999. Create a histogram of these values with a range of -20 to +21."
      ]
    },
    {
      "cell_type": "markdown",
      "metadata": {
        "id": "13e5df72"
      },
      "source": [
        "## Create arrays `a` and `b`\n",
        "\n",
        "### Subtask:\n",
        "Generate two arrays, each containing 100,000 random integers between 0 and 20.\n"
      ]
    },
    {
      "cell_type": "markdown",
      "metadata": {
        "id": "b144510b"
      },
      "source": [
        "**Reasoning**:\n",
        "The subtask requires creating two arrays of random integers. I will use `numpy.random.randint` to generate these arrays as specified in the instructions.\n",
        "\n"
      ]
    },
    {
      "cell_type": "code",
      "metadata": {
        "id": "c8a14639"
      },
      "source": [
        "a = np.random.randint(low=0, high=21, size=100000)\n",
        "b = np.random.randint(low=0, high=21, size=100000)"
      ],
      "execution_count": 5,
      "outputs": []
    },
    {
      "cell_type": "markdown",
      "metadata": {
        "id": "dbb842db"
      },
      "source": [
        "## Create array `c`\n",
        "\n",
        "### Subtask:\n",
        "Create a new array `c` where `c[i]` is calculated as `a[i] * b[i-1]` for `i` from 1 to the end of the arrays.\n"
      ]
    },
    {
      "cell_type": "markdown",
      "metadata": {
        "id": "ffb78e4d"
      },
      "source": [
        "**Reasoning**:\n",
        "Create a new array `c` by calculating the product of elements from arrays `a` and `b` with a one-element shift in `b`.\n",
        "\n"
      ]
    },
    {
      "cell_type": "code",
      "metadata": {
        "id": "bcb25bd7"
      },
      "source": [
        "c = a[1:] * b[:-1]"
      ],
      "execution_count": 6,
      "outputs": []
    },
    {
      "cell_type": "markdown",
      "metadata": {
        "id": "966603d9"
      },
      "source": [
        "## Create histogram\n",
        "\n",
        "### Subtask:\n",
        "Generate a histogram of the values in array `c` with a range of -20 to +21.\n"
      ]
    },
    {
      "cell_type": "markdown",
      "metadata": {
        "id": "60dd57bb"
      },
      "source": [
        "**Reasoning**:\n",
        "Generate a histogram of the values in array `c` with a range of -20 to +21 as requested.\n",
        "\n"
      ]
    },
    {
      "cell_type": "code",
      "metadata": {
        "colab": {
          "base_uri": "https://localhost:8080/",
          "height": 472
        },
        "id": "96d92310",
        "outputId": "eabaa483-8467-4a41-e4c9-c0eae078f4e7"
      },
      "source": [
        "import matplotlib.pyplot as plt\n",
        "\n",
        "plt.hist(c, bins=np.arange(-20, 22, 1), range=(-20, 21))\n",
        "plt.xlabel(\"Value\")\n",
        "plt.ylabel(\"Frequency\")\n",
        "plt.title(\"Histogram of Array c\")\n",
        "plt.show()"
      ],
      "execution_count": 7,
      "outputs": [
        {
          "output_type": "display_data",
          "data": {
            "text/plain": [
              "<Figure size 640x480 with 1 Axes>"
            ],
            "image/png": "[encoded data removed]"
          },
          "metadata": {}
        }
      ]
    },
    {
      "cell_type": "markdown",
      "metadata": {
        "id": "a0c90c07"
      },
      "source": [
        "## Summary:\n",
        "\n",
        "### Data Analysis Key Findings\n",
        "* Two arrays, `a` and `b`, each containing 100,000 random integers between 0 and 20, were successfully generated.\n",
        "* A new array, `c`, of length 99,999 was created where each element `c[i]` is the product of `a[i+1]` and `b[i]`.\n",
        "* A histogram of the values in array `c` was successfully generated with a range of -20 to 21.\n",
        "\n",
        "### Insights or Next Steps\n",
        "* The histogram provides a visual representation of the distribution of the product of consecutive elements from arrays `a` and `b`. Further analysis could involve examining the shape of the distribution and calculating descriptive statistics for array `c`.\n"
      ]
    },
    {
      "cell_type": "markdown",
      "metadata": {
        "id": "57ed67cc"
      },
      "source": [
        "# Task\n",
        "Create an array of 100,000 values from a normal distribution with an average of 3 and a standard deviation of 1.2. Plot the histogram of these values with a range of -0.6 to +0.6 and a bin width of 0.05."
      ]
    },
    {
      "cell_type": "markdown",
      "metadata": {
        "id": "7da14a73"
      },
      "source": [
        "## Create array from normal distribution\n",
        "\n",
        "### Subtask:\n",
        "Generate an array of 100,000 values from a normal distribution with an average of 3 and a standard deviation of 1.2.\n"
      ]
    },
    {
      "cell_type": "markdown",
      "metadata": {
        "id": "dbd5e932"
      },
      "source": [
        "**Reasoning**:\n",
        "The subtask requires generating an array of values from a normal distribution with a specific mean and standard deviation. I will use `numpy.random.normal` to create this array as specified in the instructions.\n",
        "\n"
      ]
    },
    {
      "cell_type": "code",
      "metadata": {
        "id": "342e16f6"
      },
      "source": [
        "normal_distribution_array = np.random.normal(loc=3, scale=1.2, size=100000)"
      ],
      "execution_count": 10,
      "outputs": []
    },
    {
      "cell_type": "markdown",
      "metadata": {
        "id": "16a33d25"
      },
      "source": [
        "## Create histogram\n",
        "\n",
        "### Subtask:\n",
        "Generate a histogram of the values in the created array with a range of -0.6 to +0.6 and a bin width of 0.05.\n"
      ]
    },
    {
      "cell_type": "markdown",
      "metadata": {
        "id": "b905787d"
      },
      "source": [
        "**Reasoning**:\n",
        "Generate a histogram of the values in the created array with a range of -0.6 to +0.6 and a bin width of 0.05, adding labels and a title, and displaying the plot.\n",
        "\n"
      ]
    },
    {
      "cell_type": "code",
      "metadata": {
        "colab": {
          "base_uri": "https://localhost:8080/",
          "height": 472
        },
        "id": "89c2922b",
        "outputId": "737afb89-d71c-45a3-bb65-9142c26124f2"
      },
      "source": [
        "import matplotlib.pyplot as plt\n",
        "\n",
        "bin_width = 0.05\n",
        "data_range = 0.6 - (-0.6)\n",
        "num_bins = int(data_range / bin_width)\n",
        "\n",
        "plt.hist(normal_distribution_array, bins=num_bins, range=(-0.6, 0.6))\n",
        "plt.xlabel(\"Value\")\n",
        "plt.ylabel(\"Frequency\")\n",
        "plt.title(\"Histogram of Normal Distribution Array\")\n",
        "plt.show()"
      ],
      "execution_count": 11,
      "outputs": [
        {
          "output_type": "display_data",
          "data": {
            "text/plain": [
              "<Figure size 640x480 with 1 Axes>"
            ],
            "image/png": "[encoded data removed]"
          },
          "metadata": {}
        }
      ]
    },
    {
      "cell_type": "markdown",
      "metadata": {
        "id": "02f39951"
      },
      "source": [
        "## Summary:\n",
        "\n",
        "### Data Analysis Key Findings\n",
        "\n",
        "*   An array of 100,000 values was successfully created from a normal distribution with a mean of 3 and a standard deviation of 1.2.\n",
        "*   A histogram of these values was generated with a specified range of -0.6 to 0.6 and a calculated number of bins based on a bin width of 0.05.\n",
        "\n",
        "### Insights or Next Steps\n",
        "\n",
        "*   The histogram displays the frequency distribution of the generated values within the specified narrow range.\n",
        "*   Since the mean of the distribution is 3, the histogram within the range of -0.6 to 0.6 is expected to show a very low frequency of values as it is far from the center of the distribution.\n"
      ]
    }
  ]
}